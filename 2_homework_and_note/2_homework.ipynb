{
 "cells": [
  {
   "cell_type": "markdown",
   "metadata": {},
   "source": [
    "# Thinking"
   ]
  },
  {
   "cell_type": "markdown",
   "metadata": {},
   "source": [
    "### 1：如何使用用户标签来指导业务（如何提升业务）"
   ]
  },
  {
   "cell_type": "markdown",
   "metadata": {},
   "source": [
    "推荐系统的目的是联系用户的兴趣和物品，这种联系需要依赖于不同的媒介。标签是一种无层次化结构的、用来描述信息的关键词。因此，标签可以用来准确地描述物品的语义。通过引入用户标签可以极大程度程度上提升对用户进行更好的偏好分析，完成个性化推荐服务。在用户生命周期的三个阶段：获客阶段：进行拉新，通过更精准的营销获取客户；粘客阶段：个性化推荐，搜索排序，场景运营等；留客阶段：流失率预测，分析关键节点降低流失率，都需要通过用户标签分析作为辅助。"
   ]
  },
  {
   "cell_type": "markdown",
   "metadata": {},
   "source": [
    "### 2：如果给你一堆用户数据，没有打标签。你该如何处理（如何打标签）"
   ]
  },
  {
   "cell_type": "markdown",
   "metadata": {},
   "source": [
    "标签的获取有两种典型手段：即PGG专家生产和UGC。\n",
    "PCG是通过作者或者专家为物品打上标签，UGC是依靠普通用户为商品打上标签。\n",
    "\n",
    "\n",
    "标签是对高维事物的抽象，获取标签还可以通过一些聚类算法如K-Means，EM聚类，Mean-Shift，DBSCAN，层次聚类等"
   ]
  },
  {
   "cell_type": "markdown",
   "metadata": {},
   "source": [
    "### 3：准确率和精确率有何不同"
   ]
  },
  {
   "cell_type": "markdown",
   "metadata": {},
   "source": [
    "准确率："
   ]
  },
  {
   "attachments": {
    "image.png": {
     "image/png": "[encoded data removed]"
    }
   },
   "cell_type": "markdown",
   "metadata": {},
   "source": [
    "![image.png](attachment:image.png)"
   ]
  },
  {
   "cell_type": "markdown",
   "metadata": {},
   "source": [
    "精确率："
   ]
  },
  {
   "attachments": {
    "image.png": {
     "image/png": "[encoded data removed]"
    }
   },
   "cell_type": "markdown",
   "metadata": {},
   "source": [
    "![image.png](attachment:image.png)"
   ]
  },
  {
   "cell_type": "markdown",
   "metadata": {},
   "source": [
    "由二者计算公式可以明显看出：精确率只关心正例中预测正确的情况，而准确率不仅考虑了正例中的正确预测比例还考量了反例中的正确预测，对一些受类别分布不平衡影响的数据可以在整体上更好反映预测性能情况。"
   ]
  },
  {
   "cell_type": "markdown",
   "metadata": {},
   "source": [
    "### 4：如果你使用大众点评，想要给某个餐厅打标签。这时系统可以自动提示一些标签，你会如何设计（标签推荐）"
   ]
  },
  {
   "cell_type": "markdown",
   "metadata": {},
   "source": [
    "当用户给物品打标签时，可以给用户推荐和物品相关的标签，针对此问题方法如下：\n",
    "\n",
    "\n",
    "方法1：给用户u推荐整个餐饮相关的最热门的标签\n",
    "方法2：给用户u推荐本间餐厅最热门的标签\n",
    "方法3：给用户u推荐他自己经常使用的标签\n",
    "将方法2和3进行加权融合，生成最终的标签推荐结果"
   ]
  },
  {
   "cell_type": "markdown",
   "metadata": {},
   "source": [
    "### 5：我们今天使用了10种方式来解MNIST，这些方法有何不同？你还有其他方法来解决MNIST识别问题么（分类方法）"
   ]
  },
  {
   "cell_type": "markdown",
   "metadata": {},
   "source": [
    "如Logistic Regression、CART，ID3（决策树）、LDA、SVM等属于利用传统机器学习分类算法处理MNIST数字图像转化的梳子矩阵数据，完成多分类问题。\n",
    "\n",
    "Adaboost、XGBoost是基于boosting原理引入弱分类器的集成（根据模型效果赋予不同弱分类器权重）提升模型训练效果。\n",
    "\n",
    "TPOT是基于python的自动机器学习框架，可以解决：特征选择，模型选择，但不包括数据清洗，完成最优模型的选择。\n",
    "\n",
    "LeNet-5网络是基于cnn的深度神经网络模型，引入卷积核的方法扫描图像的数字二维矩阵，再通过多层神经网络进行训练拟合。\n",
    "\n",
    "除了上述方法还可以直接使用多层感知器进行训练得到分类结果。"
   ]
  },
  {
   "cell_type": "markdown",
   "metadata": {},
   "source": [
    "# Action"
   ]
  },
  {
   "cell_type": "markdown",
   "metadata": {},
   "source": [
    "### 1：针对Delicious数据集，对SimpleTagBased算法进行改进（使用NormTagBased、TagBased-TFIDF算法）"
   ]
  },
  {
   "cell_type": "code",
   "execution_count": 1,
   "metadata": {},
   "outputs": [],
   "source": [
    "import random\n",
    "\n",
    "import math\n",
    "\n",
    "import operator"
   ]
  },
  {
   "cell_type": "markdown",
   "metadata": {},
   "source": [
    "### NormTagBased"
   ]
  },
  {
   "cell_type": "code",
   "execution_count": 3,
   "metadata": {},
   "outputs": [
    {
     "name": "stdout",
     "output_type": "stream",
     "text": [
      "开始数据加载...\n",
      "数据集大小为 437594.\n",
      "设置tag的人数 1867.\n",
      "数据加载完成\n",
      "\n",
      "训练集样本数 1860, 测试集样本数 1793\n",
      "user_tags, tag_items, user_items初始化完成.\n",
      "user_tags大小 1860, tag_items大小 36884, user_items大小 1860，tag_users大小 36884\n",
      "推荐结果评估\n",
      "  N        精确率        召回率\n",
      "  5      0.907%      0.388%\n",
      " 10      0.638%      0.546%\n",
      " 20      0.507%      0.868%\n",
      " 40      0.356%      1.218%\n",
      " 60      0.287%      1.476%\n",
      " 80      0.255%      1.750%\n",
      "100      0.241%      2.061%\n"
     ]
    }
   ],
   "source": [
    "class NormTagBased():\n",
    "    # 构造函数\n",
    "    def __init__(self,filename):\n",
    "        self.filename=filename\n",
    "        self.loadData()\n",
    "        self.randomlySplitData(0.2)\n",
    "        self.initStat()\n",
    "        self.testRecommend()\n",
    "\n",
    "        \n",
    "    # 数据加载\n",
    "    def loadData(self):\n",
    "        print(\"开始数据加载...\")\n",
    "        filename=self.filename\n",
    "        # 保存了用户对item的tag\n",
    "        self.records={}\n",
    "        fi=open(filename)\n",
    "        lineNum=0\n",
    "        for line in fi:\n",
    "            lineNum+=1\n",
    "            if lineNum==1:\n",
    "                continue\n",
    "            uid,iid,tag,timestamp=line.split('\\t')\n",
    "            # 在数组中对应的下标-1\n",
    "            uid=int(uid)-1\n",
    "            iid=int(iid)-1\n",
    "            tag=int(tag)-1\n",
    "            self.records.setdefault(uid,{})\n",
    "            self.records[uid].setdefault(iid,[])\n",
    "            self.records[uid][iid].append(tag)\n",
    "        fi.close()\n",
    "        print(\"数据集大小为 %d.\" % (lineNum))\n",
    "        print(\"设置tag的人数 %d.\" % (len(self.records)))\n",
    "        print(\"数据加载完成\\n\")\n",
    "    \n",
    "    # 将数据集拆分为训练集和测试集\n",
    "    def randomlySplitData(self,ratio,seed=100):\n",
    "        random.seed(seed)\n",
    "        self.train=dict()\n",
    "        self.test=dict()\n",
    "        for u in self.records.keys():\n",
    "            for i in self.records[u].keys():\n",
    "                if random.random()<ratio:\n",
    "                    self.test.setdefault(u,{})\n",
    "                    self.test[u].setdefault(i,[])\n",
    "                    for t in self.records[u][i]:\n",
    "                        self.test[u][i].append(t)\n",
    "                else:\n",
    "                    self.train.setdefault(u,{})\n",
    "                    self.train[u].setdefault(i,[])\n",
    "                    for t in self.records[u][i]:\n",
    "                        self.train[u][i].append(t)        \n",
    "        print(\"训练集样本数 %d, 测试集样本数 %d\" % (len(self.train),len(self.test)))\n",
    "    \n",
    "    # 使用训练集，初始化user_tags, tag_items, user_items\n",
    "    def initStat(self):\n",
    "        records=self.train\n",
    "        self.user_tags=dict()\n",
    "        self.tag_items=dict()\n",
    "        self.user_items=dict()\n",
    "        self.tag_users=dict()\n",
    "        for u,items in records.items():\n",
    "            for i,tags in items.items():\n",
    "                for tag in tags:\n",
    "                    #print tag\n",
    "                    # 用户和tag的关系\n",
    "                    self._addValueToMat(self.user_tags,u,tag,1)\n",
    "                    # tag和item的关系\n",
    "                    self._addValueToMat(self.tag_items,tag,i,1)\n",
    "                    # 用户和item的关系\n",
    "                    self._addValueToMat(self.user_items,u,i,1)\n",
    "                    # 算法改进：增添tag和用户的关系的储蓄表 用于后续计算打分时更改公式 \n",
    "                    self._addValueToMat(self.tag_users,tag,u,1)\n",
    "        print(\"user_tags, tag_items, user_items初始化完成.\")\n",
    "        print(\"user_tags大小 %d, tag_items大小 %d, user_items大小 %d，tag_users大小 %d\" % (len(self.user_tags),len(self.tag_items),len(self.user_items),len(self.tag_users)))\n",
    "    \n",
    "    # 设置矩阵 mat[index, item] = 1\n",
    "    def _addValueToMat(self,mat,index,item,value=1):\n",
    "        if index not in mat:\n",
    "            mat.setdefault(index,{})\n",
    "            mat[index].setdefault(item,value)\n",
    "        else:\n",
    "            if item not in mat[index]:\n",
    "                mat[index][item] = value\n",
    "            else:\n",
    "                mat[index][item] += value\n",
    "    # 使用测试集，计算准确率和召回率\n",
    "\n",
    "    def precisionAndRecall(self, N):\n",
    "        hit=0\n",
    "        h_recall=0\n",
    "        h_precision=0\n",
    "        for user,items in self.test.items():\n",
    "            if user not in self.train:\n",
    "                continue\n",
    "            # 获取Top-N推荐列表\n",
    "            rank=self.recommend(user,N)\n",
    "            for item,rui in rank:\n",
    "                if item in items:\n",
    "                    hit+=1\n",
    "            h_recall+=len(items)\n",
    "            h_precision+=N\n",
    "        #print('一共命中 %d 个, 一共推荐 %d 个, 用户设置tag总数 %d 个' %(hit, h_precision, h_recall))\n",
    "        # 返回准确率 和 召回率\n",
    "        return (hit/(h_precision*1.0)), (hit/(h_recall*1.0))\n",
    "    \n",
    "    # 对用户user推荐Top-N\n",
    "    def recommend(self,user,N):\n",
    "        recommend_items=dict()\n",
    "        # 对Item进行打分，分数为所有的（用户对某标签使用的次数 wut, 乘以 商品被打上相同标签的次数 wti）之和\n",
    "        tagged_items = self.user_items[user]  \n",
    "        for tag, wut in self.user_tags[user].items():\n",
    "            #print(self.user_tags[user].items())\n",
    "            for item, wti in self.tag_items[tag].items():\n",
    "                if item in tagged_items:\n",
    "                    continue\n",
    "                #print('wut = %s, wti = %s' %(wut, wti))\n",
    "                if item not in recommend_items:\n",
    "                    recommend_items[item] = (wut/len(self.user_tags[user])) * (wti/len(self.tag_users[tag]))#改进\n",
    "                else:\n",
    "                    recommend_items[item] += (wut/len(self.user_tags[user])) * (wti/len(self.tag_users[tag]))#改进\n",
    "        return sorted(recommend_items.items(), key=operator.itemgetter(1), reverse=True)[0:N]\n",
    "    \n",
    "    # 使用测试集，对推荐结果进行评估\n",
    "    def testRecommend(self):\n",
    "        print(\"推荐结果评估\")\n",
    "        print(\"%3s %10s %10s\" % ('N',\"精确率\",'召回率'))\n",
    "        for n in [5,10,20,40,60,80,100]:\n",
    "            precision,recall=self.precisionAndRecall(n)\n",
    "            print(\"%3d %10.3f%% %10.3f%%\" % (n, precision * 100, recall * 100))\n",
    "            \n",
    "if __name__=='__main__':\n",
    "\n",
    "    stb=NormTagBased(\"D://python//看课吧推荐系统//data and code//l2//l2data//user_taggedbookmarks-timestamps.dat\")"
   ]
  },
  {
   "cell_type": "markdown",
   "metadata": {},
   "source": [
    "相比simpletagbased，normtafbased在对item打分时将socre计算公式进行了归一化，除以分母即len(user_tags[user])和len(tag_users[tag])的乘积。"
   ]
  },
  {
   "cell_type": "markdown",
   "metadata": {},
   "source": [
    "如果len（user_tags[u]）很大的话，即改用户打过标签的次数很多，因此这个tag对这个用户而言并不能很好反应他对商品的兴趣，同理len（tag_users[t]）很大表明该tag被很多用户打过，并不能专属于这个user，无法体现个性化兴趣。"
   ]
  },
  {
   "cell_type": "markdown",
   "metadata": {},
   "source": [
    "### TagBasedTFIDF（对热门标签进行惩罚）"
   ]
  },
  {
   "cell_type": "code",
   "execution_count": 5,
   "metadata": {},
   "outputs": [
    {
     "name": "stdout",
     "output_type": "stream",
     "text": [
      "开始数据加载...\n",
      "数据集大小为 437594.\n",
      "设置tag的人数 1867.\n",
      "数据加载完成\n",
      "\n",
      "训练集样本数 1860, 测试集样本数 1793\n",
      "user_tags, tag_items, user_items初始化完成.\n",
      "user_tags大小 1860, tag_items大小 36884, user_items大小 1860，tag_users大小 36884\n",
      "推荐结果评估\n",
      "  N        精确率        召回率\n",
      "  5      1.008%      0.431%\n",
      " 10      0.761%      0.652%\n",
      " 20      0.549%      0.940%\n",
      " 40      0.402%      1.376%\n",
      " 60      0.328%      1.687%\n",
      " 80      0.297%      2.033%\n",
      "100      0.269%      2.306%\n"
     ]
    }
   ],
   "source": [
    "class TagBased_Tfidf():\n",
    "    # 构造函数\n",
    "    def __init__(self,filename):\n",
    "        self.filename=filename\n",
    "        self.loadData()\n",
    "        self.randomlySplitData(0.2)\n",
    "        self.initStat()\n",
    "        self.testRecommend()\n",
    "\n",
    "        \n",
    "    # 数据加载\n",
    "    def loadData(self):\n",
    "        print(\"开始数据加载...\")\n",
    "        filename=self.filename\n",
    "        # 保存了用户对item的tag\n",
    "        self.records={}\n",
    "        fi=open(filename)\n",
    "        lineNum=0\n",
    "        for line in fi:\n",
    "            lineNum+=1\n",
    "            if lineNum==1:\n",
    "                continue\n",
    "            uid,iid,tag,timestamp=line.split('\\t')\n",
    "            # 在数组中对应的下标-1\n",
    "            uid=int(uid)-1\n",
    "            iid=int(iid)-1\n",
    "            tag=int(tag)-1\n",
    "            self.records.setdefault(uid,{})\n",
    "            self.records[uid].setdefault(iid,[])\n",
    "            self.records[uid][iid].append(tag)\n",
    "        fi.close()\n",
    "        print(\"数据集大小为 %d.\" % (lineNum))\n",
    "        print(\"设置tag的人数 %d.\" % (len(self.records)))\n",
    "        print(\"数据加载完成\\n\")\n",
    "    \n",
    "    # 将数据集拆分为训练集和测试集\n",
    "    def randomlySplitData(self,ratio,seed=100):\n",
    "        random.seed(seed)\n",
    "        self.train=dict()\n",
    "        self.test=dict()\n",
    "        for u in self.records.keys():\n",
    "            for i in self.records[u].keys():\n",
    "                if random.random()<ratio:\n",
    "                    self.test.setdefault(u,{})\n",
    "                    self.test[u].setdefault(i,[])\n",
    "                    for t in self.records[u][i]:\n",
    "                        self.test[u][i].append(t)\n",
    "                else:\n",
    "                    self.train.setdefault(u,{})\n",
    "                    self.train[u].setdefault(i,[])\n",
    "                    for t in self.records[u][i]:\n",
    "                        self.train[u][i].append(t)        \n",
    "        print(\"训练集样本数 %d, 测试集样本数 %d\" % (len(self.train),len(self.test)))\n",
    "    \n",
    "    # 使用训练集，初始化user_tags, tag_items, user_items\n",
    "    def initStat(self):\n",
    "        records=self.train\n",
    "        self.user_tags=dict()\n",
    "        self.tag_items=dict()\n",
    "        self.user_items=dict()\n",
    "        self.tag_users=dict()\n",
    "        for u,items in records.items():\n",
    "            for i,tags in items.items():\n",
    "                for tag in tags:\n",
    "                    #print tag\n",
    "                    # 用户和tag的关系\n",
    "                    self._addValueToMat(self.user_tags,u,tag,1)\n",
    "                    # tag和item的关系\n",
    "                    self._addValueToMat(self.tag_items,tag,i,1)\n",
    "                    # 用户和item的关系\n",
    "                    self._addValueToMat(self.user_items,u,i,1)\n",
    "                    # 算法改进：增添tag和用户的关系的储蓄表 用于后续计算打分时更改公式 \n",
    "                    self._addValueToMat(self.tag_users,tag,u,1)\n",
    "        print(\"user_tags, tag_items, user_items初始化完成.\")\n",
    "        print(\"user_tags大小 %d, tag_items大小 %d, user_items大小 %d，tag_users大小 %d\" % (len(self.user_tags),len(self.tag_items),len(self.user_items),len(self.tag_users)))\n",
    "    \n",
    "    # 设置矩阵 mat[index, item] = 1\n",
    "    def _addValueToMat(self,mat,index,item,value=1):\n",
    "        if index not in mat:\n",
    "            mat.setdefault(index,{})\n",
    "            mat[index].setdefault(item,value)\n",
    "        else:\n",
    "            if item not in mat[index]:\n",
    "                mat[index][item] = value\n",
    "            else:\n",
    "                mat[index][item] += value\n",
    "    # 使用测试集，计算准确率和召回率\n",
    "\n",
    "    def precisionAndRecall(self, N):\n",
    "        hit=0\n",
    "        h_recall=0\n",
    "        h_precision=0\n",
    "        for user,items in self.test.items():\n",
    "            if user not in self.train:\n",
    "                continue\n",
    "            # 获取Top-N推荐列表\n",
    "            rank=self.recommend(user,N)\n",
    "            for item,rui in rank:\n",
    "                if item in items:\n",
    "                    hit+=1\n",
    "            h_recall+=len(items)\n",
    "            h_precision+=N\n",
    "        #print('一共命中 %d 个, 一共推荐 %d 个, 用户设置tag总数 %d 个' %(hit, h_precision, h_recall))\n",
    "        # 返回准确率 和 召回率\n",
    "        return (hit/(h_precision*1.0)), (hit/(h_recall*1.0))\n",
    "    \n",
    "    # 对用户user推荐Top-N\n",
    "    def recommend(self,user,N):\n",
    "        recommend_items=dict()\n",
    "        # 对Item进行打分，分数为所有的（用户对某标签使用的次数 wut, 乘以 商品被打上相同标签的次数 wti）之和\n",
    "        tagged_items = self.user_items[user]  \n",
    "        for tag, wut in self.user_tags[user].items():\n",
    "            #print(self.user_tags[user].items())\n",
    "            for item, wti in self.tag_items[tag].items():\n",
    "                if item in tagged_items:\n",
    "                    continue\n",
    "                #print('wut = %s, wti = %s' %(wut, wti))\n",
    "                if item not in recommend_items:\n",
    "                    recommend_items[item] = (wut/math.log(1+len(self.tag_users[tag])))* wti#改进\n",
    "                else:\n",
    "                    recommend_items[item] += (wut/math.log(1+len(self.tag_users[tag])))* wti#改进\n",
    "        return sorted(recommend_items.items(), key=operator.itemgetter(1), reverse=True)[0:N]\n",
    "    \n",
    "    # 使用测试集，对推荐结果进行评估\n",
    "    def testRecommend(self):\n",
    "        print(\"推荐结果评估\")\n",
    "        print(\"%3s %10s %10s\" % ('N',\"精确率\",'召回率'))\n",
    "        for n in [5,10,20,40,60,80,100]:\n",
    "            precision,recall=self.precisionAndRecall(n)\n",
    "            print(\"%3d %10.3f%% %10.3f%%\" % (n, precision * 100, recall * 100))\n",
    "            \n",
    "if __name__=='__main__':\n",
    "\n",
    "    stb=TagBased_Tfidf(\"D://python//看课吧推荐系统//data and code//l2//l2data//user_taggedbookmarks-timestamps.dat\")"
   ]
  },
  {
   "cell_type": "markdown",
   "metadata": {},
   "source": [
    "如果一个tag很热门，会导致user_tags[t]很大，所以即使tag_items[u,t]很小，也会导致score(u,i)很大。给热门标签过大的权重，不能反应用户个性化的兴趣。\n",
    "\n",
    "倾向于给热门标签和热门物品很大的权重，可以利用TF-IDF，对公式进行改进¶\n",
    "\n",
    "借鉴TF-IDF的思想，使用tag_users[t]表示标签t被多少个不同的用户使用\n",
    "\n",
    "同时考量对热门物品和热门标签进行惩罚，则可以使用agBasedTFIDF++ 改进效果：适当惩罚热门标签和热门物品，在增进推荐结果个性化的同时并不会降低推荐结果的离线精度\n"
   ]
  },
  {
   "cell_type": "markdown",
   "metadata": {},
   "source": [
    "# TagBasedTFIDF++（对热门物品和热门标签进行惩罚）"
   ]
  },
  {
   "cell_type": "code",
   "execution_count": 2,
   "metadata": {},
   "outputs": [
    {
     "name": "stdout",
     "output_type": "stream",
     "text": [
      "开始数据加载...\n",
      "数据集大小为 437594.\n",
      "设置tag的人数 1867.\n",
      "数据加载完成\n",
      "\n",
      "训练集样本数 1860, 测试集样本数 1793\n",
      "user_tags, tag_items, user_items初始化完成.\n",
      "user_tags大小 1860, tag_items大小 36884, user_items大小 1860，tag_users大小 36884\n",
      "推荐结果评估\n",
      "  N        精确率        召回率\n",
      "  5      1.053%      0.451%\n",
      " 10      0.722%      0.618%\n",
      " 20      0.521%      0.892%\n",
      " 40      0.400%      1.371%\n",
      " 60      0.342%      1.759%\n",
      " 80      0.305%      2.090%\n",
      "100      0.281%      2.406%\n"
     ]
    }
   ],
   "source": [
    "class TagBasedTFIDF_():\n",
    "    # 构造函数\n",
    "    def __init__(self,filename):\n",
    "        self.filename=filename\n",
    "        self.loadData()\n",
    "        self.randomlySplitData(0.2)\n",
    "        self.initStat()\n",
    "        self.testRecommend()\n",
    "\n",
    "        \n",
    "    # 数据加载\n",
    "    def loadData(self):\n",
    "        print(\"开始数据加载...\")\n",
    "        filename=self.filename\n",
    "        # 保存了用户对item的tag\n",
    "        self.records={}\n",
    "        fi=open(filename)\n",
    "        lineNum=0\n",
    "        for line in fi:\n",
    "            lineNum+=1\n",
    "            if lineNum==1:\n",
    "                continue\n",
    "            uid,iid,tag,timestamp=line.split('\\t')\n",
    "            # 在数组中对应的下标-1\n",
    "            uid=int(uid)-1\n",
    "            iid=int(iid)-1\n",
    "            tag=int(tag)-1\n",
    "            self.records.setdefault(uid,{})\n",
    "            self.records[uid].setdefault(iid,[])\n",
    "            self.records[uid][iid].append(tag)\n",
    "        fi.close()\n",
    "        print(\"数据集大小为 %d.\" % (lineNum))\n",
    "        print(\"设置tag的人数 %d.\" % (len(self.records)))\n",
    "        print(\"数据加载完成\\n\")\n",
    "    \n",
    "    # 将数据集拆分为训练集和测试集\n",
    "    def randomlySplitData(self,ratio,seed=100):\n",
    "        random.seed(seed)\n",
    "        self.train=dict()\n",
    "        self.test=dict()\n",
    "        for u in self.records.keys():\n",
    "            for i in self.records[u].keys():\n",
    "                if random.random()<ratio:\n",
    "                    self.test.setdefault(u,{})\n",
    "                    self.test[u].setdefault(i,[])\n",
    "                    for t in self.records[u][i]:\n",
    "                        self.test[u][i].append(t)\n",
    "                else:\n",
    "                    self.train.setdefault(u,{})\n",
    "                    self.train[u].setdefault(i,[])\n",
    "                    for t in self.records[u][i]:\n",
    "                        self.train[u][i].append(t)        \n",
    "        print(\"训练集样本数 %d, 测试集样本数 %d\" % (len(self.train),len(self.test)))\n",
    "    \n",
    "    # 使用训练集，初始化user_tags, tag_items, user_items\n",
    "    def initStat(self):\n",
    "        records=self.train\n",
    "        self.user_tags=dict()\n",
    "        self.tag_items=dict()\n",
    "        self.user_items=dict()\n",
    "        self.tag_users=dict()\n",
    "        self.item_users=dict()\n",
    "        for u,items in records.items():\n",
    "            for i,tags in items.items():\n",
    "                for tag in tags:\n",
    "                    #print tag\n",
    "                    # 用户和tag的关系\n",
    "                    self._addValueToMat(self.user_tags,u,tag,1)\n",
    "                    # tag和item的关系\n",
    "                    self._addValueToMat(self.tag_items,tag,i,1)\n",
    "                    # 用户和item的关系\n",
    "                    self._addValueToMat(self.user_items,u,i,1)\n",
    "                    # 算法改进：增添tag和用户的关系的储蓄表 用于后续计算打分时更改公式 \n",
    "                    self._addValueToMat(self.tag_users,tag,u,1)\n",
    "                    # 算法改进：增添item和用户的关系的储蓄表 用于后续计算打分时更改公式 \n",
    "                    self._addValueToMat(self.item_users,i,u,1)\n",
    "        print(\"user_tags, tag_items, user_items初始化完成.\")\n",
    "        print(\"user_tags大小 %d, tag_items大小 %d, user_items大小 %d，tag_users大小 %d\" % (len(self.user_tags),len(self.tag_items),len(self.user_items),len(self.tag_users)))\n",
    "    \n",
    "    # 设置矩阵 mat[index, item] = 1\n",
    "    def _addValueToMat(self,mat,index,item,value=1):\n",
    "        if index not in mat:\n",
    "            mat.setdefault(index,{})\n",
    "            mat[index].setdefault(item,value)\n",
    "        else:\n",
    "            if item not in mat[index]:\n",
    "                mat[index][item] = value\n",
    "            else:\n",
    "                mat[index][item] += value\n",
    "    # 使用测试集，计算准确率和召回率\n",
    "\n",
    "    def precisionAndRecall(self, N):\n",
    "        hit=0\n",
    "        h_recall=0\n",
    "        h_precision=0\n",
    "        for user,items in self.test.items():\n",
    "            if user not in self.train:\n",
    "                continue\n",
    "            # 获取Top-N推荐列表\n",
    "            rank=self.recommend(user,N)\n",
    "            for item,rui in rank:\n",
    "                if item in items:\n",
    "                    hit+=1\n",
    "            h_recall+=len(items)\n",
    "            h_precision+=N\n",
    "        #print('一共命中 %d 个, 一共推荐 %d 个, 用户设置tag总数 %d 个' %(hit, h_precision, h_recall))\n",
    "        # 返回准确率 和 召回率\n",
    "        return (hit/(h_precision*1.0)), (hit/(h_recall*1.0))\n",
    "    \n",
    "    # 对用户user推荐Top-N\n",
    "    def recommend(self,user,N):\n",
    "        recommend_items=dict()\n",
    "        # 对Item进行打分，分数为所有的（用户对某标签使用的次数 wut, 乘以 商品被打上相同标签的次数 wti）之和\n",
    "        tagged_items = self.user_items[user]  \n",
    "        for tag, wut in self.user_tags[user].items():\n",
    "            #print(self.user_tags[user].items())\n",
    "            for item, wti in self.tag_items[tag].items():\n",
    "                if item in tagged_items:\n",
    "                    continue\n",
    "                #print('wut = %s, wti = %s' %(wut, wti))\n",
    "                if item not in recommend_items:\n",
    "                    recommend_items[item] = (wut/math.log(1+len(self.tag_users[tag])))* (wti/math.log(1+len(self.tag_users[tag])))#改进\n",
    "                else:\n",
    "                    recommend_items[item] += (wut/math.log(1+len(self.tag_users[tag])))* (wti/math.log(1+len(self.tag_users[tag])))#改进\n",
    "        return sorted(recommend_items.items(), key=operator.itemgetter(1), reverse=True)[0:N]\n",
    "    \n",
    "    # 使用测试集，对推荐结果进行评估\n",
    "    def testRecommend(self):\n",
    "        print(\"推荐结果评估\")\n",
    "        print(\"%3s %10s %10s\" % ('N',\"精确率\",'召回率'))\n",
    "        for n in [5,10,20,40,60,80,100]:\n",
    "            precision,recall=self.precisionAndRecall(n)\n",
    "            print(\"%3d %10.3f%% %10.3f%%\" % (n, precision * 100, recall * 100))\n",
    "            \n",
    "if __name__=='__main__':\n",
    "\n",
    "    stb=TagBasedTFIDF_(\"D://python//看课吧推荐系统//data and code//l2//l2data//user_taggedbookmarks-timestamps.dat\")"
   ]
  },
  {
   "cell_type": "markdown",
   "metadata": {},
   "source": [
    "效果最优"
   ]
  },
  {
   "cell_type": "markdown",
   "metadata": {},
   "source": [
    "### 2：对Titanic数据进行清洗，建模并对乘客生存进行预测。使用之前介绍过的10种模型中的至少2种（包括TPOT）"
   ]
  },
  {
   "cell_type": "code",
   "execution_count": 1,
   "metadata": {},
   "outputs": [],
   "source": [
    "from tpot import TPOTClassifier\n",
    "import gc\n",
    "import pandas as pd\n",
    "import matplotlib.pyplot as plt\n",
    "import random\n",
    "from collections import Counter\n",
    "import seaborn as sns\n",
    "import numpy as np\n",
    "from sklearn.feature_extraction import DictVectorizer\n",
    "from tpot import TPOTClassifier\n",
    "from sklearn.feature_extraction import DictVectorizer\n",
    "from sklearn.model_selection import train_test_split,cross_val_score"
   ]
  },
  {
   "cell_type": "code",
   "execution_count": 67,
   "metadata": {},
   "outputs": [],
   "source": [
    "from tpot import TPOTClassifier\n",
    "\n",
    "from sklearn.datasets import load_digits\n",
    "\n",
    "from sklearn.model_selection import train_test_split\n",
    "\n",
    "import numpy as np"
   ]
  },
  {
   "cell_type": "markdown",
   "metadata": {},
   "source": [
    "# 读取数据"
   ]
  },
  {
   "cell_type": "code",
   "execution_count": 2,
   "metadata": {},
   "outputs": [],
   "source": [
    "f=open('D://python//看课吧推荐系统//data and code//l2//l2data//titan//train.csv')\n",
    "train_data=pd.read_csv(f)\n",
    "f2=open('D://python//看课吧推荐系统//data and code//l2//l2data//titan//test.csv')\n",
    "test_data=pd.read_csv(f2)"
   ]
  },
  {
   "cell_type": "markdown",
   "metadata": {},
   "source": [
    "# EDA"
   ]
  },
  {
   "cell_type": "code",
   "execution_count": 15,
   "metadata": {},
   "outputs": [
    {
     "name": "stdout",
     "output_type": "stream",
     "text": [
      "<class 'pandas.core.frame.DataFrame'>\n",
      "RangeIndex: 891 entries, 0 to 890\n",
      "Data columns (total 12 columns):\n",
      "PassengerId    891 non-null int64\n",
      "Survived       891 non-null int64\n",
      "Pclass         891 non-null int64\n",
      "Name           891 non-null object\n",
      "Sex            891 non-null object\n",
      "Age            891 non-null float64\n",
      "SibSp          891 non-null int64\n",
      "Parch          891 non-null int64\n",
      "Ticket         891 non-null object\n",
      "Fare           891 non-null float64\n",
      "Cabin          204 non-null object\n",
      "Embarked       891 non-null object\n",
      "dtypes: float64(2), int64(5), object(5)\n",
      "memory usage: 83.6+ KB\n",
      "<class 'pandas.core.frame.DataFrame'>\n",
      "RangeIndex: 418 entries, 0 to 417\n",
      "Data columns (total 11 columns):\n",
      "PassengerId    418 non-null int64\n",
      "Pclass         418 non-null int64\n",
      "Name           418 non-null object\n",
      "Sex            418 non-null object\n",
      "Age            418 non-null float64\n",
      "SibSp          418 non-null int64\n",
      "Parch          418 non-null int64\n",
      "Ticket         418 non-null object\n",
      "Fare           418 non-null float64\n",
      "Cabin          91 non-null object\n",
      "Embarked       418 non-null object\n",
      "dtypes: float64(2), int64(4), object(5)\n",
      "memory usage: 36.0+ KB\n"
     ]
    }
   ],
   "source": [
    "train_data.info()\n",
    "test_data.info()"
   ]
  },
  {
   "cell_type": "markdown",
   "metadata": {},
   "source": [
    "训练数据有三列有缺失即age、Cabin、Embarked\n",
    "\n",
    "测试数据有三列有缺失即age、Cabin、fare"
   ]
  },
  {
   "cell_type": "code",
   "execution_count": 51,
   "metadata": {},
   "outputs": [
    {
     "data": {
      "text/html": [
       "<div>\n",
       "<style scoped>\n",
       "    .dataframe tbody tr th:only-of-type {\n",
       "        vertical-align: middle;\n",
       "    }\n",
       "\n",
       "    .dataframe tbody tr th {\n",
       "        vertical-align: top;\n",
       "    }\n",
       "\n",
       "    .dataframe thead th {\n",
       "        text-align: right;\n",
       "    }\n",
       "</style>\n",
       "<table border=\"1\" class=\"dataframe\">\n",
       "  <thead>\n",
       "    <tr style=\"text-align: right;\">\n",
       "      <th></th>\n",
       "      <th>PassengerId</th>\n",
       "      <th>Survived</th>\n",
       "      <th>Pclass</th>\n",
       "      <th>Name</th>\n",
       "      <th>Sex</th>\n",
       "      <th>Age</th>\n",
       "      <th>SibSp</th>\n",
       "      <th>Parch</th>\n",
       "      <th>Ticket</th>\n",
       "      <th>Fare</th>\n",
       "      <th>Embarked</th>\n",
       "      <th>is_alone</th>\n",
       "      <th>family_size</th>\n",
       "      <th>Title</th>\n",
       "    </tr>\n",
       "  </thead>\n",
       "  <tbody>\n",
       "    <tr>\n",
       "      <th>0</th>\n",
       "      <td>1</td>\n",
       "      <td>0</td>\n",
       "      <td>3</td>\n",
       "      <td>Braund, Mr. Owen Harris</td>\n",
       "      <td>male</td>\n",
       "      <td>22.0</td>\n",
       "      <td>1</td>\n",
       "      <td>0</td>\n",
       "      <td>A/5 21171</td>\n",
       "      <td>7.2500</td>\n",
       "      <td>S</td>\n",
       "      <td>0</td>\n",
       "      <td>2</td>\n",
       "      <td>0</td>\n",
       "    </tr>\n",
       "    <tr>\n",
       "      <th>1</th>\n",
       "      <td>2</td>\n",
       "      <td>1</td>\n",
       "      <td>1</td>\n",
       "      <td>Cumings, Mrs. John Bradley (Florence Briggs Th...</td>\n",
       "      <td>female</td>\n",
       "      <td>38.0</td>\n",
       "      <td>1</td>\n",
       "      <td>0</td>\n",
       "      <td>PC 17599</td>\n",
       "      <td>71.2833</td>\n",
       "      <td>C</td>\n",
       "      <td>0</td>\n",
       "      <td>2</td>\n",
       "      <td>4</td>\n",
       "    </tr>\n",
       "    <tr>\n",
       "      <th>2</th>\n",
       "      <td>3</td>\n",
       "      <td>1</td>\n",
       "      <td>3</td>\n",
       "      <td>Heikkinen, Miss. Laina</td>\n",
       "      <td>female</td>\n",
       "      <td>26.0</td>\n",
       "      <td>0</td>\n",
       "      <td>0</td>\n",
       "      <td>STON/O2. 3101282</td>\n",
       "      <td>7.9250</td>\n",
       "      <td>S</td>\n",
       "      <td>1</td>\n",
       "      <td>1</td>\n",
       "      <td>3</td>\n",
       "    </tr>\n",
       "    <tr>\n",
       "      <th>3</th>\n",
       "      <td>4</td>\n",
       "      <td>1</td>\n",
       "      <td>1</td>\n",
       "      <td>Futrelle, Mrs. Jacques Heath (Lily May Peel)</td>\n",
       "      <td>female</td>\n",
       "      <td>35.0</td>\n",
       "      <td>1</td>\n",
       "      <td>0</td>\n",
       "      <td>113803</td>\n",
       "      <td>53.1000</td>\n",
       "      <td>S</td>\n",
       "      <td>0</td>\n",
       "      <td>2</td>\n",
       "      <td>4</td>\n",
       "    </tr>\n",
       "    <tr>\n",
       "      <th>4</th>\n",
       "      <td>5</td>\n",
       "      <td>0</td>\n",
       "      <td>3</td>\n",
       "      <td>Allen, Mr. William Henry</td>\n",
       "      <td>male</td>\n",
       "      <td>35.0</td>\n",
       "      <td>0</td>\n",
       "      <td>0</td>\n",
       "      <td>373450</td>\n",
       "      <td>8.0500</td>\n",
       "      <td>S</td>\n",
       "      <td>1</td>\n",
       "      <td>1</td>\n",
       "      <td>0</td>\n",
       "    </tr>\n",
       "  </tbody>\n",
       "</table>\n",
       "</div>"
      ],
      "text/plain": [
       "   PassengerId  Survived  Pclass  \\\n",
       "0            1         0       3   \n",
       "1            2         1       1   \n",
       "2            3         1       3   \n",
       "3            4         1       1   \n",
       "4            5         0       3   \n",
       "\n",
       "                                                Name     Sex   Age  SibSp  \\\n",
       "0                            Braund, Mr. Owen Harris    male  22.0      1   \n",
       "1  Cumings, Mrs. John Bradley (Florence Briggs Th...  female  38.0      1   \n",
       "2                             Heikkinen, Miss. Laina  female  26.0      0   \n",
       "3       Futrelle, Mrs. Jacques Heath (Lily May Peel)  female  35.0      1   \n",
       "4                           Allen, Mr. William Henry    male  35.0      0   \n",
       "\n",
       "   Parch            Ticket     Fare Embarked  is_alone  family_size  Title  \n",
       "0      0         A/5 21171   7.2500        S         0            2      0  \n",
       "1      0          PC 17599  71.2833        C         0            2      4  \n",
       "2      0  STON/O2. 3101282   7.9250        S         1            1      3  \n",
       "3      0            113803  53.1000        S         0            2      4  \n",
       "4      0            373450   8.0500        S         1            1      0  "
      ]
     },
     "execution_count": 51,
     "metadata": {},
     "output_type": "execute_result"
    }
   ],
   "source": [
    "train_data.head()"
   ]
  },
  {
   "cell_type": "markdown",
   "metadata": {},
   "source": [
    "    1.数据列信息：\n",
    "    PassengerId:乘客ID\n",
    "    Survived:是否获救，用1表示获救,用0表示没有获救\n",
    "    Pclass:乘客等级，“1”表示Upper，“2”表示Middle，“3”表示Lower\n",
    "    Name:乘客姓名\n",
    "    Sex:性别\n",
    "    Age:年龄\n",
    "    SibSp:乘客在船上的配偶数量或兄弟姐妹数量）\n",
    "    Parch:乘客在船上的父母或子女数量\n",
    "    Ticket:船票信息\n",
    "    Fare:票价\n",
    "    Cabin:房号\n",
    "    Embarked:表示乘客上船的码头距离泰坦尼克出发码头的距离，数值越大表示距离越远"
   ]
  },
  {
   "cell_type": "code",
   "execution_count": 21,
   "metadata": {},
   "outputs": [
    {
     "data": {
      "text/plain": [
       "<matplotlib.axes._subplots.AxesSubplot at 0x2927911f8d0>"
      ]
     },
     "execution_count": 21,
     "metadata": {},
     "output_type": "execute_result"
    },
    {
     "data": {
      "image/png": "[encoded data removed]",
      "text/plain": [
       "<Figure size 432x288 with 1 Axes>"
      ]
     },
     "metadata": {
      "needs_background": "light"
     },
     "output_type": "display_data"
    }
   ],
   "source": [
    "sns.countplot(train_data[\"Sex\"],hue=train_data[\"Survived\"])"
   ]
  },
  {
   "cell_type": "markdown",
   "metadata": {},
   "source": [
    "###  性别明显对是否幸存有影响"
   ]
  },
  {
   "cell_type": "markdown",
   "metadata": {},
   "source": [
    "# 缺失值处理"
   ]
  },
  {
   "cell_type": "markdown",
   "metadata": {},
   "source": [
    "年龄缺失用均值补充，test中fare同理"
   ]
  },
  {
   "cell_type": "code",
   "execution_count": 10,
   "metadata": {},
   "outputs": [],
   "source": [
    "m1=train_data[train_data[\"Age\"].notnull()==True].Age.mean()\n",
    "m2=test_data[test_data[\"Age\"].notnull()==True].Age.mean()\n",
    "train_data.Age.fillna(m1,inplace=True)\n",
    "test_data.Age.fillna(m1,inplace=True)"
   ]
  },
  {
   "cell_type": "code",
   "execution_count": 12,
   "metadata": {},
   "outputs": [],
   "source": [
    "m3=test_data[test_data['Fare'].notnull()==True].Fare.mean()\n",
    "test_data.Fare.fillna(m3,inplace=True)"
   ]
  },
  {
   "cell_type": "markdown",
   "metadata": {},
   "source": [
    "由于Embarke缺失较少，直接用S(出现最多)填充"
   ]
  },
  {
   "cell_type": "code",
   "execution_count": 13,
   "metadata": {},
   "outputs": [],
   "source": [
    "train_data.Embarked.fillna('S',inplace=True)"
   ]
  },
  {
   "cell_type": "markdown",
   "metadata": {},
   "source": [
    "Cabin缺失太多，直接drop掉 "
   ]
  },
  {
   "cell_type": "code",
   "execution_count": 16,
   "metadata": {},
   "outputs": [
    {
     "name": "stdout",
     "output_type": "stream",
     "text": [
      "over\n"
     ]
    }
   ],
   "source": [
    "train_data.drop(\"Cabin\",axis=1,inplace=True)\n",
    "test_data.drop(\"Cabin\",axis=1,inplace=True)\n",
    "print('over')"
   ]
  },
  {
   "cell_type": "markdown",
   "metadata": {},
   "source": [
    "# feature_engineering"
   ]
  },
  {
   "cell_type": "markdown",
   "metadata": {},
   "source": [
    "### 构建特征描述乘客是否孤身一人 "
   ]
  },
  {
   "cell_type": "code",
   "execution_count": 19,
   "metadata": {},
   "outputs": [],
   "source": [
    "def if_alone(x,y):\n",
    "    if x+y==0:\n",
    "        return 1\n",
    "    else:\n",
    "        return 0\n",
    "        \n",
    "train_data['is_alone']=train_data.apply(lambda x: if_alone(x['SibSp'],x['Parch']),axis=1)"
   ]
  },
  {
   "cell_type": "code",
   "execution_count": 50,
   "metadata": {},
   "outputs": [],
   "source": [
    "test_data['is_alone']=test_data.apply(lambda x: if_alone(x['SibSp'],x['Parch']),axis=1)"
   ]
  },
  {
   "cell_type": "code",
   "execution_count": 20,
   "metadata": {},
   "outputs": [
    {
     "data": {
      "text/plain": [
       "<matplotlib.axes._subplots.AxesSubplot at 0x292790d5d68>"
      ]
     },
     "execution_count": 20,
     "metadata": {},
     "output_type": "execute_result"
    },
    {
     "data": {
      "image/png": "[encoded data removed]",
      "text/plain": [
       "<Figure size 432x288 with 1 Axes>"
      ]
     },
     "metadata": {
      "needs_background": "light"
     },
     "output_type": "display_data"
    }
   ],
   "source": [
    "sns.countplot(train_data[\"is_alone\"],hue=train_data[\"Survived\"])"
   ]
  },
  {
   "cell_type": "markdown",
   "metadata": {},
   "source": [
    "可见孤身一人的用户幸存率偏低"
   ]
  },
  {
   "cell_type": "code",
   "execution_count": 42,
   "metadata": {},
   "outputs": [],
   "source": [
    "train_data['family_size']=train_data[\"Parch\"]+train_data[\"SibSp\"]+1"
   ]
  },
  {
   "cell_type": "code",
   "execution_count": 49,
   "metadata": {},
   "outputs": [],
   "source": [
    "test_data['family_size']=test_data[\"Parch\"]+test_data[\"SibSp\"]+1"
   ]
  },
  {
   "cell_type": "code",
   "execution_count": 44,
   "metadata": {},
   "outputs": [
    {
     "data": {
      "text/plain": [
       "<matplotlib.axes._subplots.AxesSubplot at 0x2927952cf98>"
      ]
     },
     "execution_count": 44,
     "metadata": {},
     "output_type": "execute_result"
    },
    {
     "data": {
      "image/png": "[encoded data removed]",
      "text/plain": [
       "<Figure size 432x288 with 1 Axes>"
      ]
     },
     "metadata": {
      "needs_background": "light"
     },
     "output_type": "display_data"
    }
   ],
   "source": [
    "sns.countplot(train_data[\"family_size\"],hue=train_data[\"Survived\"])"
   ]
  },
  {
   "cell_type": "markdown",
   "metadata": {},
   "source": [
    "### 根据称谓构建特征"
   ]
  },
  {
   "cell_type": "code",
   "execution_count": 45,
   "metadata": {},
   "outputs": [],
   "source": [
    "train_data['Title'] = train_data.Name.str.extract(' ([A-Za-z]+)\\.', expand=False)\n",
    "train_data['Title'] = train_data['Title'].replace(['Capt', 'Col', 'Countess', 'Don',\n",
    "                                               'Dr', 'Dona', 'Jonkheer', \n",
    "                                                'Major','Rev','Sir'],'Rare') \n",
    "train_data['Title'] = train_data['Title'].replace(['Mlle', 'Ms','Mme'],'Miss')\n",
    "train_data['Title'] = train_data['Title'].replace(['Lady'],'Mrs')\n",
    "train_data['Title'] = train_data['Title'].map({\"Mr\":0, \"Rare\" : 1, \"Master\" : 2,\"Miss\" : 3, \"Mrs\" : 4 })"
   ]
  },
  {
   "cell_type": "code",
   "execution_count": 48,
   "metadata": {},
   "outputs": [],
   "source": [
    "test_data['Title'] = test_data.Name.str.extract(' ([A-Za-z]+)\\.', expand=False)\n",
    "test_data['Title'] = test_data['Title'].replace(['Capt', 'Col', 'Countess', 'Don',\n",
    "                                               'Dr', 'Dona', 'Jonkheer', \n",
    "                                                'Major','Rev','Sir'],'Rare') \n",
    "test_data['Title'] = test_data['Title'].replace(['Mlle', 'Ms','Mme'],'Miss')\n",
    "test_data['Title'] = test_data['Title'].replace(['Lady'],'Mrs')\n",
    "test_data['Title'] = test_data['Title'].map({\"Mr\":0, \"Rare\" : 1, \"Master\" : 2,\"Miss\" : 3, \"Mrs\" : 4 })"
   ]
  },
  {
   "cell_type": "code",
   "execution_count": 47,
   "metadata": {},
   "outputs": [
    {
     "data": {
      "text/plain": [
       "<matplotlib.axes._subplots.AxesSubplot at 0x292794bf2b0>"
      ]
     },
     "execution_count": 47,
     "metadata": {},
     "output_type": "execute_result"
    },
    {
     "data": {
      "image/png": "[encoded data removed]",
      "text/plain": [
       "<Figure size 432x288 with 1 Axes>"
      ]
     },
     "metadata": {
      "needs_background": "light"
     },
     "output_type": "display_data"
    }
   ],
   "source": [
    "sns.countplot(train_data['Title'], hue=train_data['Survived'])"
   ]
  },
  {
   "cell_type": "markdown",
   "metadata": {},
   "source": [
    "# 模型训练"
   ]
  },
  {
   "cell_type": "markdown",
   "metadata": {},
   "source": [
    "### TPOT"
   ]
  },
  {
   "cell_type": "code",
   "execution_count": 61,
   "metadata": {},
   "outputs": [
    {
     "data": {
      "text/html": [
       "<div>\n",
       "<style scoped>\n",
       "    .dataframe tbody tr th:only-of-type {\n",
       "        vertical-align: middle;\n",
       "    }\n",
       "\n",
       "    .dataframe tbody tr th {\n",
       "        vertical-align: top;\n",
       "    }\n",
       "\n",
       "    .dataframe thead th {\n",
       "        text-align: right;\n",
       "    }\n",
       "</style>\n",
       "<table border=\"1\" class=\"dataframe\">\n",
       "  <thead>\n",
       "    <tr style=\"text-align: right;\">\n",
       "      <th></th>\n",
       "      <th>Pclass</th>\n",
       "      <th>Age</th>\n",
       "      <th>SibSp</th>\n",
       "      <th>Parch</th>\n",
       "      <th>Fare</th>\n",
       "      <th>is_alone</th>\n",
       "      <th>family_size</th>\n",
       "      <th>Title</th>\n",
       "      <th>female</th>\n",
       "      <th>male</th>\n",
       "      <th>C</th>\n",
       "      <th>Q</th>\n",
       "      <th>S</th>\n",
       "    </tr>\n",
       "  </thead>\n",
       "  <tbody>\n",
       "    <tr>\n",
       "      <th>0</th>\n",
       "      <td>3</td>\n",
       "      <td>22.0</td>\n",
       "      <td>1</td>\n",
       "      <td>0</td>\n",
       "      <td>7.2500</td>\n",
       "      <td>0</td>\n",
       "      <td>2</td>\n",
       "      <td>0</td>\n",
       "      <td>0</td>\n",
       "      <td>1</td>\n",
       "      <td>0</td>\n",
       "      <td>0</td>\n",
       "      <td>1</td>\n",
       "    </tr>\n",
       "    <tr>\n",
       "      <th>1</th>\n",
       "      <td>1</td>\n",
       "      <td>38.0</td>\n",
       "      <td>1</td>\n",
       "      <td>0</td>\n",
       "      <td>71.2833</td>\n",
       "      <td>0</td>\n",
       "      <td>2</td>\n",
       "      <td>4</td>\n",
       "      <td>1</td>\n",
       "      <td>0</td>\n",
       "      <td>1</td>\n",
       "      <td>0</td>\n",
       "      <td>0</td>\n",
       "    </tr>\n",
       "    <tr>\n",
       "      <th>2</th>\n",
       "      <td>3</td>\n",
       "      <td>26.0</td>\n",
       "      <td>0</td>\n",
       "      <td>0</td>\n",
       "      <td>7.9250</td>\n",
       "      <td>1</td>\n",
       "      <td>1</td>\n",
       "      <td>3</td>\n",
       "      <td>1</td>\n",
       "      <td>0</td>\n",
       "      <td>0</td>\n",
       "      <td>0</td>\n",
       "      <td>1</td>\n",
       "    </tr>\n",
       "    <tr>\n",
       "      <th>3</th>\n",
       "      <td>1</td>\n",
       "      <td>35.0</td>\n",
       "      <td>1</td>\n",
       "      <td>0</td>\n",
       "      <td>53.1000</td>\n",
       "      <td>0</td>\n",
       "      <td>2</td>\n",
       "      <td>4</td>\n",
       "      <td>1</td>\n",
       "      <td>0</td>\n",
       "      <td>0</td>\n",
       "      <td>0</td>\n",
       "      <td>1</td>\n",
       "    </tr>\n",
       "    <tr>\n",
       "      <th>4</th>\n",
       "      <td>3</td>\n",
       "      <td>35.0</td>\n",
       "      <td>0</td>\n",
       "      <td>0</td>\n",
       "      <td>8.0500</td>\n",
       "      <td>1</td>\n",
       "      <td>1</td>\n",
       "      <td>0</td>\n",
       "      <td>0</td>\n",
       "      <td>1</td>\n",
       "      <td>0</td>\n",
       "      <td>0</td>\n",
       "      <td>1</td>\n",
       "    </tr>\n",
       "  </tbody>\n",
       "</table>\n",
       "</div>"
      ],
      "text/plain": [
       "   Pclass   Age  SibSp  Parch     Fare  is_alone  family_size  Title  female  \\\n",
       "0       3  22.0      1      0   7.2500         0            2      0       0   \n",
       "1       1  38.0      1      0  71.2833         0            2      4       1   \n",
       "2       3  26.0      0      0   7.9250         1            1      3       1   \n",
       "3       1  35.0      1      0  53.1000         0            2      4       1   \n",
       "4       3  35.0      0      0   8.0500         1            1      0       0   \n",
       "\n",
       "   male  C  Q  S  \n",
       "0     1  0  0  1  \n",
       "1     0  1  0  0  \n",
       "2     0  0  0  1  \n",
       "3     0  0  0  1  \n",
       "4     1  0  0  1  "
      ]
     },
     "execution_count": 61,
     "metadata": {},
     "output_type": "execute_result"
    }
   ],
   "source": [
    "train=train_data.drop([\"Name\",\"Survived\",\"Ticket\",\"PassengerId\"],axis=1)\n",
    "train=pd.concat([train,pd.get_dummies(train[\"Sex\"])],axis=1)\n",
    "train=pd.concat([train,pd.get_dummies(train[\"Embarked\"])],axis=1)\n",
    "train.drop([\"Embarked\",\"Sex\"],axis=1,inplace=True)\n",
    "train.head()"
   ]
  },
  {
   "cell_type": "code",
   "execution_count": 66,
   "metadata": {},
   "outputs": [],
   "source": [
    "train_labels=train_data[\"Survived\"]"
   ]
  },
  {
   "cell_type": "code",
   "execution_count": 68,
   "metadata": {},
   "outputs": [],
   "source": [
    "X_train, X_test, y_train, y_test = train_test_split(train,train_labels,test_size=0.2)"
   ]
  },
  {
   "cell_type": "code",
   "execution_count": 69,
   "metadata": {},
   "outputs": [
    {
     "name": "stdout",
     "output_type": "stream",
     "text": [
      "Warning: xgboost.XGBClassifier is not available and will not be used by TPOT.\n"
     ]
    },
    {
     "data": {
      "application/vnd.jupyter.widget-view+json": {
       "model_id": "",
       "version_major": 2,
       "version_minor": 0
      },
      "text/plain": [
       "HBox(children=(IntProgress(value=0, description='Optimization Progress', max=120), HTML(value='')))"
      ]
     },
     "metadata": {},
     "output_type": "display_data"
    },
    {
     "name": "stdout",
     "output_type": "stream",
     "text": [
      "Generation 1 - Current best internal CV score: 0.8230832797209782\n",
      "Generation 2 - Current best internal CV score: 0.8244523332027078\n",
      "Generation 3 - Current best internal CV score: 0.8244523332027078\n",
      "Generation 4 - Current best internal CV score: 0.8285882033259917\n",
      "Generation 5 - Current best internal CV score: 0.8285882033259917\n",
      "\n",
      "Best pipeline: DecisionTreeClassifier(SelectFwe(StandardScaler(input_matrix), alpha=0.038), criterion=entropy, max_depth=10, min_samples_leaf=8, min_samples_split=17)\n",
      "0.8435754189944135\n"
     ]
    }
   ],
   "source": [
    "tpot = TPOTClassifier(generations=5, population_size=20, verbosity=2)\n",
    "tpot.fit(X_train, y_train)\n",
    "print(tpot.score(X_test, y_test))"
   ]
  },
  {
   "cell_type": "markdown",
   "metadata": {},
   "source": [
    "### 随机森林"
   ]
  },
  {
   "cell_type": "code",
   "execution_count": 82,
   "metadata": {},
   "outputs": [],
   "source": [
    "from sklearn.ensemble import RandomForestClassifier\n",
    "rf1=RandomForestClassifier()\n",
    "\n",
    "from sklearn.model_selection import cross_val_score"
   ]
  },
  {
   "cell_type": "code",
   "execution_count": 83,
   "metadata": {},
   "outputs": [
    {
     "name": "stderr",
     "output_type": "stream",
     "text": [
      "C:\\Users\\wangcc\\Anaconda3\\lib\\site-packages\\sklearn\\ensemble\\forest.py:245: FutureWarning: The default value of n_estimators will change from 10 in version 0.20 to 100 in 0.22.\n",
      "  \"10 in version 0.20 to 100 in 0.22.\", FutureWarning)\n",
      "C:\\Users\\wangcc\\Anaconda3\\lib\\site-packages\\sklearn\\ensemble\\forest.py:245: FutureWarning: The default value of n_estimators will change from 10 in version 0.20 to 100 in 0.22.\n",
      "  \"10 in version 0.20 to 100 in 0.22.\", FutureWarning)\n",
      "C:\\Users\\wangcc\\Anaconda3\\lib\\site-packages\\sklearn\\ensemble\\forest.py:245: FutureWarning: The default value of n_estimators will change from 10 in version 0.20 to 100 in 0.22.\n",
      "  \"10 in version 0.20 to 100 in 0.22.\", FutureWarning)\n",
      "C:\\Users\\wangcc\\Anaconda3\\lib\\site-packages\\sklearn\\ensemble\\forest.py:245: FutureWarning: The default value of n_estimators will change from 10 in version 0.20 to 100 in 0.22.\n",
      "  \"10 in version 0.20 to 100 in 0.22.\", FutureWarning)\n",
      "C:\\Users\\wangcc\\Anaconda3\\lib\\site-packages\\sklearn\\ensemble\\forest.py:245: FutureWarning: The default value of n_estimators will change from 10 in version 0.20 to 100 in 0.22.\n",
      "  \"10 in version 0.20 to 100 in 0.22.\", FutureWarning)\n"
     ]
    },
    {
     "name": "stdout",
     "output_type": "stream",
     "text": [
      "loss of each fold: [1.87560431 2.79128995 0.89141545 1.92873338 1.3308257 ]\n",
      "mean loss:  1.7635737574307355\n"
     ]
    }
   ],
   "source": [
    "loss=cross_val_score(rf1,train,train_labels,cv=5,scoring=\"neg_log_loss\")\n",
    "print(\"loss of each fold:\",-loss)\n",
    "print(\"mean loss: \",-loss.mean())"
   ]
  },
  {
   "cell_type": "code",
   "execution_count": 87,
   "metadata": {},
   "outputs": [
    {
     "name": "stdout",
     "output_type": "stream",
     "text": [
      "New oob score :0.83165\n"
     ]
    }
   ],
   "source": [
    "New_Model = RandomForestClassifier(random_state=2,n_estimators=500,min_samples_split=30,oob_score=True)\n",
    "New_Model.fit(train,train_labels)\n",
    "print('New oob score :%.5f' %(New_Model.oob_score_))"
   ]
  },
  {
   "cell_type": "markdown",
   "metadata": {},
   "source": [
    "# 提交结果"
   ]
  },
  {
   "cell_type": "code",
   "execution_count": 90,
   "metadata": {},
   "outputs": [
    {
     "data": {
      "text/html": [
       "<div>\n",
       "<style scoped>\n",
       "    .dataframe tbody tr th:only-of-type {\n",
       "        vertical-align: middle;\n",
       "    }\n",
       "\n",
       "    .dataframe tbody tr th {\n",
       "        vertical-align: top;\n",
       "    }\n",
       "\n",
       "    .dataframe thead th {\n",
       "        text-align: right;\n",
       "    }\n",
       "</style>\n",
       "<table border=\"1\" class=\"dataframe\">\n",
       "  <thead>\n",
       "    <tr style=\"text-align: right;\">\n",
       "      <th></th>\n",
       "      <th>Pclass</th>\n",
       "      <th>Age</th>\n",
       "      <th>SibSp</th>\n",
       "      <th>Parch</th>\n",
       "      <th>Fare</th>\n",
       "      <th>Title</th>\n",
       "      <th>family_size</th>\n",
       "      <th>is_alone</th>\n",
       "      <th>female</th>\n",
       "      <th>male</th>\n",
       "      <th>C</th>\n",
       "      <th>Q</th>\n",
       "      <th>S</th>\n",
       "    </tr>\n",
       "  </thead>\n",
       "  <tbody>\n",
       "    <tr>\n",
       "      <th>0</th>\n",
       "      <td>3</td>\n",
       "      <td>34.5</td>\n",
       "      <td>0</td>\n",
       "      <td>0</td>\n",
       "      <td>7.8292</td>\n",
       "      <td>0</td>\n",
       "      <td>1</td>\n",
       "      <td>1</td>\n",
       "      <td>0</td>\n",
       "      <td>1</td>\n",
       "      <td>0</td>\n",
       "      <td>1</td>\n",
       "      <td>0</td>\n",
       "    </tr>\n",
       "    <tr>\n",
       "      <th>1</th>\n",
       "      <td>3</td>\n",
       "      <td>47.0</td>\n",
       "      <td>1</td>\n",
       "      <td>0</td>\n",
       "      <td>7.0000</td>\n",
       "      <td>4</td>\n",
       "      <td>2</td>\n",
       "      <td>0</td>\n",
       "      <td>1</td>\n",
       "      <td>0</td>\n",
       "      <td>0</td>\n",
       "      <td>0</td>\n",
       "      <td>1</td>\n",
       "    </tr>\n",
       "    <tr>\n",
       "      <th>2</th>\n",
       "      <td>2</td>\n",
       "      <td>62.0</td>\n",
       "      <td>0</td>\n",
       "      <td>0</td>\n",
       "      <td>9.6875</td>\n",
       "      <td>0</td>\n",
       "      <td>1</td>\n",
       "      <td>1</td>\n",
       "      <td>0</td>\n",
       "      <td>1</td>\n",
       "      <td>0</td>\n",
       "      <td>1</td>\n",
       "      <td>0</td>\n",
       "    </tr>\n",
       "    <tr>\n",
       "      <th>3</th>\n",
       "      <td>3</td>\n",
       "      <td>27.0</td>\n",
       "      <td>0</td>\n",
       "      <td>0</td>\n",
       "      <td>8.6625</td>\n",
       "      <td>0</td>\n",
       "      <td>1</td>\n",
       "      <td>1</td>\n",
       "      <td>0</td>\n",
       "      <td>1</td>\n",
       "      <td>0</td>\n",
       "      <td>0</td>\n",
       "      <td>1</td>\n",
       "    </tr>\n",
       "    <tr>\n",
       "      <th>4</th>\n",
       "      <td>3</td>\n",
       "      <td>22.0</td>\n",
       "      <td>1</td>\n",
       "      <td>1</td>\n",
       "      <td>12.2875</td>\n",
       "      <td>4</td>\n",
       "      <td>3</td>\n",
       "      <td>0</td>\n",
       "      <td>1</td>\n",
       "      <td>0</td>\n",
       "      <td>0</td>\n",
       "      <td>0</td>\n",
       "      <td>1</td>\n",
       "    </tr>\n",
       "  </tbody>\n",
       "</table>\n",
       "</div>"
      ],
      "text/plain": [
       "   Pclass   Age  SibSp  Parch     Fare  Title  family_size  is_alone  female  \\\n",
       "0       3  34.5      0      0   7.8292      0            1         1       0   \n",
       "1       3  47.0      1      0   7.0000      4            2         0       1   \n",
       "2       2  62.0      0      0   9.6875      0            1         1       0   \n",
       "3       3  27.0      0      0   8.6625      0            1         1       0   \n",
       "4       3  22.0      1      1  12.2875      4            3         0       1   \n",
       "\n",
       "   male  C  Q  S  \n",
       "0     1  0  1  0  \n",
       "1     0  0  0  1  \n",
       "2     1  0  1  0  \n",
       "3     1  0  0  1  \n",
       "4     0  0  0  1  "
      ]
     },
     "execution_count": 90,
     "metadata": {},
     "output_type": "execute_result"
    }
   ],
   "source": [
    "test=test_data.drop([\"Name\",\"Ticket\",\"PassengerId\"],axis=1)\n",
    "test=pd.concat([test,pd.get_dummies(test[\"Sex\"])],axis=1)\n",
    "test=pd.concat([test,pd.get_dummies(test[\"Embarked\"])],axis=1)\n",
    "test.drop([\"Embarked\",\"Sex\"],axis=1,inplace=True)\n",
    "test.head()"
   ]
  },
  {
   "cell_type": "code",
   "execution_count": 91,
   "metadata": {},
   "outputs": [
    {
     "name": "stdout",
     "output_type": "stream",
     "text": [
      "Your submission was successfully saved!\n"
     ]
    }
   ],
   "source": [
    "New_pred = New_Model.predict(test)\n",
    "\n",
    "submit = pd.DataFrame({\"PassengerId\": test_data['PassengerId'],\n",
    "                      \"Survived\":New_pred.astype(int)})\n",
    "submit.to_csv(\"titanic_submission.csv\",index=False)\n",
    "\n",
    "print(\"Your submission was successfully saved!\")"
   ]
  },
  {
   "cell_type": "code",
   "execution_count": null,
   "metadata": {},
   "outputs": [],
   "source": []
  }
 ],
 "metadata": {
  "kernelspec": {
   "display_name": "Python 3",
   "language": "python",
   "name": "python3"
  },
  "language_info": {
   "codemirror_mode": {
    "name": "ipython",
    "version": 3
   },
   "file_extension": ".py",
   "mimetype": "text/x-python",
   "name": "python",
   "nbconvert_exporter": "python",
   "pygments_lexer": "ipython3",
   "version": "3.7.0"
  }
 },
 "nbformat": 4,
 "nbformat_minor": 2
}
